{
 "cells": [
  {
   "cell_type": "code",
   "execution_count": 18,
   "metadata": {},
   "outputs": [],
   "source": [
    "from paddleocr import PaddleOCR, draw_ocr\n",
    "import os\n",
    "import pickle \n",
    "from PIL import Image\n",
    "import pandas as pd\n",
    "import numpy as np\n",
    "import math\n",
    "import jieba\n",
    "from sklearn.utils import Bunch\n",
    "from sklearn.feature_extraction.text import TfidfTransformer  # TF-IDF向量转换类\n",
    "from sklearn.feature_extraction.text import TfidfVectorizer  # TF_IDF向量生成类\n",
    "from sklearn.naive_bayes import MultinomialNB  # 多项式贝叶斯算法\n",
    "import random\n",
    "import re"
   ]
  },
  {
   "cell_type": "code",
   "execution_count": 10,
   "metadata": {},
   "outputs": [],
   "source": [
    "def saveFile(path, result):\n",
    "    with open(path, 'a', errors='ignore') as file:\n",
    "        file.write(result)\n",
    "def readFile(path):\n",
    "    with open(path, 'r', errors='ignore') as file:  \n",
    "        content = file.read()\n",
    "        return content"
   ]
  },
  {
   "cell_type": "code",
   "execution_count": 16,
   "metadata": {},
   "outputs": [],
   "source": [
    "#统计数字数量\n",
    "def count_digits(s):\n",
    "    return sum(1 for char in s if char.isnumeric())/len(s)\n",
    "#只保留数字\n",
    "def extract_digits(s):\n",
    "    return re.findall(r'\\d+', s)"
   ]
  },
  {
   "cell_type": "code",
   "execution_count": 12,
   "metadata": {},
   "outputs": [],
   "source": [
    "# 获取距离\n",
    "def distance(p1,p2):\n",
    "    ans=[]\n",
    "    for i in range(4):\n",
    "        for j in range(4):\n",
    "            an=math.sqrt((p1[i][0]-p2[j][0])**2+(p1[i][1]-p2[j][1])**2)\n",
    "            ans.append(an)\n",
    "    return np.array(ans).min()/500\n"
   ]
  },
  {
   "cell_type": "code",
   "execution_count": 13,
   "metadata": {},
   "outputs": [],
   "source": [
    "def get_left_distance(p1,p2):\n",
    "    an=math.sqrt((p1[1][0]-p2[0][0])**2+16*(p1[1][1]-p2[0][1])**2)\n",
    "    return an/500"
   ]
  },
  {
   "cell_type": "markdown",
   "metadata": {},
   "source": [
    "# 训练文本分类模型\n",
    "## 准备数据\n",
    "### jieba分词"
   ]
  },
  {
   "cell_type": "code",
   "execution_count": 11,
   "metadata": {},
   "outputs": [
    {
     "name": "stderr",
     "output_type": "stream",
     "text": [
      "Building prefix dict from the default dictionary ...\n",
      "[2024-12-18 23:34:47,509] [   DEBUG] __init__.py:113 - Building prefix dict from the default dictionary ...\n"
     ]
    },
    {
     "name": "stderr",
     "output_type": "stream",
     "text": [
      "Loading model from cache C:\\Users\\86151\\AppData\\Local\\Temp\\jieba.cache\n",
      "[2024-12-18 23:34:47,514] [   DEBUG] __init__.py:132 - Loading model from cache C:\\Users\\86151\\AppData\\Local\\Temp\\jieba.cache\n",
      "Loading model cost 0.925 seconds.\n",
      "[2024-12-18 23:34:48,438] [   DEBUG] __init__.py:164 - Loading model cost 0.925 seconds.\n",
      "Prefix dict has been built successfully.\n",
      "[2024-12-18 23:34:48,454] [   DEBUG] __init__.py:166 - Prefix dict has been built successfully.\n"
     ]
    }
   ],
   "source": [
    "#公司名称\n",
    "company_name=pd.read_csv(\"company_name.txt\",sep='\\t')\n",
    "cutPath=\"C:\\daima\\ocr\\cut_company_name.txt\"\n",
    "with open(cutPath, 'w') as file:\n",
    "    file.write(\" \")\n",
    "for i in company_name['编号']:\n",
    "    cutResult=\" \".join(jieba.cut(i))+\"\\n\"\n",
    "    saveFile(cutPath , cutResult)"
   ]
  },
  {
   "cell_type": "code",
   "execution_count": 12,
   "metadata": {},
   "outputs": [],
   "source": [
    "#人名\n",
    "people_name=pd.read_csv(\"Chinese_Names_Corpus_Gender.txt\")\n",
    "p_cutPath=\"C:\\daima\\ocr\\cut_people_name.txt\"\n",
    "with open(p_cutPath, 'w') as file:\n",
    "    file.write(\" \")\n",
    "count=0\n",
    "for i in range(520):\n",
    "    j=random.randint(1,100000)\n",
    "    cutResult=\" \".join(jieba.cut(people_name['dict'][j]))+\"\\n\"\n",
    "    count+=1\n",
    "    saveFile(p_cutPath , cutResult)"
   ]
  },
  {
   "cell_type": "markdown",
   "metadata": {},
   "source": [
    "### 装入banch"
   ]
  },
  {
   "cell_type": "code",
   "execution_count": 13,
   "metadata": {},
   "outputs": [],
   "source": [
    "aimfile = \"C:\\\\daima\\\\ocr\\\\aimfile.dat\"\n",
    "bunch = Bunch(label=[], index=[], contents=[])\n",
    "count=0\n",
    "with open (p_cutPath, 'r') as file:\n",
    "    line = file.readline();\n",
    "    while line :\n",
    "        bunch.contents.append(line)\n",
    "        bunch.label.append(\"p\")\n",
    "        bunch.index.append(count)\n",
    "        line = file.readline();count+=1\n",
    "with open(cutPath,'r') as file :\n",
    "    line = file.readline();\n",
    "    while line :\n",
    "        bunch.contents.append(line)\n",
    "        bunch.label.append(\"c\")\n",
    "        bunch.index.append(count)\n",
    "        line = file.readline();count+=1\n",
    "with open(aimfile, 'wb') as file_obj:\n",
    "    pickle.dump(bunch,file_obj)\n",
    "        "
   ]
  },
  {
   "cell_type": "code",
   "execution_count": 14,
   "metadata": {},
   "outputs": [],
   "source": [
    "def readBunch(path):\n",
    "    with open(path, 'rb') as file:\n",
    "        bunch = pickle.load(file)\n",
    "        #pickle.load(file)\n",
    "        #函数的功能：将file中的对象序列化读出。\n",
    "    return bunch\n",
    "def writeBunch(path, bunchFile):\n",
    "    with open(path, 'wb') as file:\n",
    "        pickle.dump(bunchFile, file)\n",
    "def getStopWord(inputFile):\n",
    "    stopWordList = readFile(inputFile).splitlines()\n",
    "    return stopWordList\n",
    " "
   ]
  },
  {
   "cell_type": "markdown",
   "metadata": {},
   "source": [
    "### 求得TF-IDF向量"
   ]
  },
  {
   "cell_type": "code",
   "execution_count": 15,
   "metadata": {},
   "outputs": [],
   "source": [
    "TFPath=\"C:\\\\daima\\\\ocr\\\\TFfile.dat\"\n",
    "bunch=readBunch(aimfile)\n",
    "tfidfspace = Bunch(label=bunch.label, index=bunch.index, tdm=[],vocabulary={})\n",
    "    # 初始化向量空间\n",
    "vectorizer = TfidfVectorizer(sublinear_tf=True, max_df=0.5)\n",
    "transformer = TfidfTransformer()  # 该类会统计每个词语的TF-IDF权值\n",
    "# 文本转化为词频矩阵，单独保存字典文件\n",
    "tfidfspace.tdm = vectorizer.fit_transform(bunch.contents)\n",
    "tfidfspace.vocabulary = vectorizer.vocabulary_   #获取词汇\n",
    "writeBunch(TFPath, tfidfspace)"
   ]
  },
  {
   "cell_type": "markdown",
   "metadata": {},
   "source": [
    "## 将数据转为banch"
   ]
  },
  {
   "cell_type": "code",
   "execution_count": 16,
   "metadata": {},
   "outputs": [],
   "source": [
    "def to_banch(test_aimfile,results):\n",
    "    test_bunch = Bunch(label=[], index=[], contents=[])\n",
    "    count=0\n",
    "    cut_str = []\n",
    "    for line in results[0]:\n",
    "        cutResult=jieba.cut(line[1][0])\n",
    "        test_bunch.contents.append(\" \".join(cutResult))\n",
    "        test_bunch.index.append(count)\n",
    "        count+=1\n",
    "    with open(test_aimfile, 'wb') as file_obj:\n",
    "        pickle.dump(test_bunch,file_obj)"
   ]
  },
  {
   "cell_type": "code",
   "execution_count": 41,
   "metadata": {},
   "outputs": [
    {
     "name": "stdout",
     "output_type": "stream",
     "text": [
      "[2024/12/22 00:50:16] ppocr DEBUG: Namespace(help='==SUPPRESS==', use_gpu=False, use_xpu=False, use_npu=False, use_mlu=False, ir_optim=True, use_tensorrt=False, min_subgraph_size=15, precision='fp32', gpu_mem=500, gpu_id=0, image_dir=None, page_num=0, det_algorithm='DB', det_model_dir='C:\\\\Users\\\\86151/.paddleocr/whl\\\\det\\\\ch\\\\ch_PP-OCRv4_det_infer', det_limit_side_len=960, det_limit_type='max', det_box_type='quad', det_db_thresh=0.3, det_db_box_thresh=0.6, det_db_unclip_ratio=1.5, max_batch_size=10, use_dilation=False, det_db_score_mode='fast', det_east_score_thresh=0.8, det_east_cover_thresh=0.1, det_east_nms_thresh=0.2, det_sast_score_thresh=0.5, det_sast_nms_thresh=0.2, det_pse_thresh=0, det_pse_box_thresh=0.85, det_pse_min_area=16, det_pse_scale=1, scales=[8, 16, 32], alpha=1.0, beta=1.0, fourier_degree=5, rec_algorithm='SVTR_LCNet', rec_model_dir='C:\\\\Users\\\\86151/.paddleocr/whl\\\\rec\\\\ch\\\\ch_PP-OCRv4_rec_infer', rec_image_inverse=True, rec_image_shape='3, 48, 320', rec_batch_num=6, max_text_length=25, rec_char_dict_path='C:\\\\Users\\\\86151\\\\AppData\\\\Roaming\\\\Python\\\\Python311\\\\site-packages\\\\paddleocr\\\\ppocr\\\\utils\\\\ppocr_keys_v1.txt', use_space_char=True, vis_font_path='./doc/fonts/simfang.ttf', drop_score=0.5, e2e_algorithm='PGNet', e2e_model_dir=None, e2e_limit_side_len=768, e2e_limit_type='max', e2e_pgnet_score_thresh=0.5, e2e_char_dict_path='./ppocr/utils/ic15_dict.txt', e2e_pgnet_valid_set='totaltext', e2e_pgnet_mode='fast', use_angle_cls=True, cls_model_dir='C:\\\\Users\\\\86151/.paddleocr/whl\\\\cls\\\\ch_ppocr_mobile_v2.0_cls_infer', cls_image_shape='3, 48, 192', label_list=['0', '180'], cls_batch_num=6, cls_thresh=0.9, enable_mkldnn=False, cpu_threads=10, use_pdserving=False, warmup=False, sr_model_dir=None, sr_image_shape='3, 32, 128', sr_batch_num=1, draw_img_save_dir='./inference_results', save_crop_res=False, crop_res_save_dir='./output', use_mp=False, total_process_num=1, process_id=0, benchmark=False, save_log_path='./log_output/', show_log=True, use_onnx=False, return_word_box=False, output='./output', table_max_len=488, table_algorithm='TableAttn', table_model_dir=None, merge_no_span_structure=True, table_char_dict_path=None, formula_algorithm='LaTeXOCR', formula_model_dir=None, formula_char_dict_path=None, formula_batch_num=1, layout_model_dir=None, layout_dict_path=None, layout_score_threshold=0.5, layout_nms_threshold=0.5, kie_algorithm='LayoutXLM', ser_model_dir=None, re_model_dir=None, use_visual_backbone=True, ser_dict_path='../train_data/XFUND/class_list_xfun.txt', ocr_order_method=None, mode='structure', image_orientation=False, layout=True, table=True, formula=False, ocr=True, recovery=False, recovery_to_markdown=False, use_pdf2docx_api=False, invert=False, binarize=False, alphacolor=(255, 255, 255), lang='ch', det=True, rec=True, type='ocr', savefile=False, ocr_version='PP-OCRv4', structure_version='PP-StructureV2')\n",
      "[2024/12/22 00:50:20] ppocr DEBUG: dt_boxes num : 57, elapsed : 1.289722204208374\n",
      "[2024/12/22 00:50:21] ppocr DEBUG: cls num  : 57, elapsed : 0.34110188484191895\n",
      "[2024/12/22 00:50:23] ppocr DEBUG: rec_res num  : 57, elapsed : 2.324307441711426\n"
     ]
    }
   ],
   "source": [
    "results=get_picture(\"picture1.jpg\")"
   ]
  },
  {
   "cell_type": "code",
   "execution_count": 33,
   "metadata": {},
   "outputs": [
    {
     "data": {
      "text/plain": [
       "[[[331.0, 1319.0], [389.0, 1319.0], [389.0, 1720.0], [331.0, 1720.0]],\n",
       " ('东莞股份有限公司印制', 0.8228614926338196)]"
      ]
     },
     "execution_count": 33,
     "metadata": {},
     "output_type": "execute_result"
    }
   ],
   "source": [
    "results[0][22]"
   ]
  },
  {
   "cell_type": "code",
   "execution_count": 45,
   "metadata": {},
   "outputs": [],
   "source": [
    "all_line=\"\"\n",
    "for line in results[0]:\n",
    "    all_line+=line[1][0]+\", \""
   ]
  },
  {
   "cell_type": "code",
   "execution_count": 46,
   "metadata": {},
   "outputs": [
    {
     "data": {
      "text/plain": [
       "'安微省医疗门诊收费票据, 票据号：0025696429, 门诊号：2010100229, 好政部监, (19）, 皮山县人民医院, 00188, 医疗机构类型：, 医疗机构名称：, 自费医疗, 王宇峰, ., 社会保隆号码, 医保类, 姓名：, S9, 金额, 项目, 项目, 120, 第一装, 收据联, 东莞股份有限公司印制, 盖章有效遗失不补, 2020-07-1718:39:43, 就诊时间：, 119-00, 贰佰陆拾圆整, (）, 合计（大写）：, 120, 18:39-43, 医保统筹支, sts, 收款人（签章）：, 年, 月, 教款单位, 章）, 日, '"
      ]
     },
     "execution_count": 46,
     "metadata": {},
     "output_type": "execute_result"
    }
   ],
   "source": [
    "all_line"
   ]
  },
  {
   "cell_type": "code",
   "execution_count": 47,
   "metadata": {},
   "outputs": [
    {
     "name": "stdout",
     "output_type": "stream",
     "text": [
      "任务2完成，耗时: 0.92s\n"
     ]
    },
    {
     "data": {
      "text/plain": [
       "\"Based on the provided text, I've identified the attributes and their corresponding attribute names. Here's the pairing:\\n\\n1. **票据号** (Ticket Number): 0025696429\\n2. **门诊号** (Clinic Number): 2010100229\\n3. **医疗机构类型** (Medical Institution Type): (blank)\\n4. **医疗机构名称** (Medical Institution Name): 皮山县人民医院 (Pishan County People's Hospital)\\n5. **社会保隆号码** (Social Insurance Number): (blank)\\n6. **医保类** (Medical Insurance Type): (blank)\\n7. **姓名** (Name): 王宇峰 (Wang Yufeng)\\n8. **金额** (Amount): 120\\n9. **项目** (Project): 第一装 (First Aid)\\n10. **收据联** (Receipt Number): (blank)\\n11. **就诊时间** (Treatment Time): (\""
      ]
     },
     "execution_count": 47,
     "metadata": {},
     "output_type": "execute_result"
    }
   ],
   "source": [
    "messages=[\n",
    "        {\"role\": \"user\", \n",
    "         \"content\": f\"下面有一些字符串 {all_line} 将其中的属性和属性名配对。\\n\"}]\n",
    "re=API.get_respone_from_api(1,messages)\n",
    "re"
   ]
  },
  {
   "cell_type": "code",
   "execution_count": null,
   "metadata": {},
   "outputs": [],
   "source": [
    "test_aimfile = \"C:\\\\daima\\\\ocr\\\\test_set_file.dat\"\n",
    "test_bunch = Bunch(label=[], index=[], contents=[])\n",
    "count=0\n",
    "cut_str = []\n",
    "for line in results[0]:\n",
    "    cutResult=jieba.cut(line[1][0])\n",
    "    test_bunch.contents.append(\" \".join(cutResult))\n",
    "    test_bunch.index.append(count)\n",
    "    count+=1\n",
    "with open(test_aimfile, 'wb') as file_obj:\n",
    "    pickle.dump(test_bunch,file_obj)\n",
    "    "
   ]
  },
  {
   "cell_type": "code",
   "execution_count": 23,
   "metadata": {},
   "outputs": [],
   "source": [
    "def getTestSpace(testSetPath, trainSpacePath, testSpacePath):\n",
    "    bunch = readBunch(testSetPath)\n",
    "    # 构建测试集TF-IDF向量空间\n",
    "    testSpace = Bunch(label=bunch.label, filenames=bunch.index, tdm=[],\n",
    "                      vocabulary={})\n",
    "    # 导入训练集的词袋\n",
    "    trainbunch = readBunch(trainSpacePath)\n",
    "    # 使用TfidfVectorizer初始化向量空间模型  使用训练集词袋向量\n",
    "    vectorizer = TfidfVectorizer(sublinear_tf=True, max_df=0.5,\n",
    "                                 vocabulary=trainbunch.vocabulary)\n",
    "    transformer = TfidfTransformer()\n",
    "    testSpace.tdm = vectorizer.fit_transform(bunch.contents)\n",
    "    testSpace.vocabulary = trainbunch.vocabulary\n",
    "    # 持久化\n",
    "    writeBunch(testSpacePath, testSpace)"
   ]
  },
  {
   "cell_type": "code",
   "execution_count": 24,
   "metadata": {},
   "outputs": [],
   "source": [
    "def bayesAlgorithm(trainPath, testPath):\n",
    "    trainSet = readBunch(trainPath)\n",
    "    testSet = readBunch(testPath)\n",
    "    clf = MultinomialNB(alpha=0.001).fit(trainSet.tdm, trainSet.label)\n",
    "    predicted = clf.predict(testSet.tdm)\n",
    "    return predicted"
   ]
  },
  {
   "cell_type": "code",
   "execution_count": 25,
   "metadata": {},
   "outputs": [
    {
     "data": {
      "text/plain": [
       "array(['c', 'p', 'p', 'p', 'p', 'p', 'p', 'p', 'p', 'c', 'p', 'p', 'p',\n",
       "       'p', 'p', 'p', 'p', 'p', 'p', 'p', 'c', 'p', 'c', 'p', 'p', 'p',\n",
       "       'p', 'p', 'p', 'p', 'p', 'p', 'p', 'p', 'p', 'p', 'p', 'p', 'p',\n",
       "       'p'], dtype='<U1')"
      ]
     },
     "execution_count": 25,
     "metadata": {},
     "output_type": "execute_result"
    }
   ],
   "source": [
    "testSpacePath=\"C:\\\\daima\\\\ocr\\\\test_space_file.dat\"\n",
    "getTestSpace(test_aimfile, TFPath, testSpacePath)\n",
    "bayesAlgorithm(TFPath, testSpacePath)"
   ]
  },
  {
   "cell_type": "markdown",
   "metadata": {},
   "source": [
    "## 利用OCR技术获得发票图片上的数据"
   ]
  },
  {
   "cell_type": "code",
   "execution_count": 14,
   "metadata": {},
   "outputs": [],
   "source": [
    "def get_picture(image_path):\n",
    "    # 初始化 OCR 模型\n",
    "    ocr = PaddleOCR(use_angle_cls=True, lang='ch')  # 支持中文\n",
    "    # 文字检测和识别\n",
    "    results = ocr.ocr(image_path, cls=True)\n",
    "    return results"
   ]
  },
  {
   "cell_type": "markdown",
   "metadata": {},
   "source": [
    "## 获取指定路径指定属性的数据"
   ]
  },
  {
   "cell_type": "code",
   "execution_count": 7,
   "metadata": {},
   "outputs": [],
   "source": [
    "def get_ans(results):\n",
    "    count=0;p=[];m=[];j=[];t=[];c=[]\n",
    "    for line in results[0]:\n",
    "        #print(f\"识别文字: {line[1][0]}, 置信度: {line[1][1]}\")\n",
    "        index_c=line[1][0].find(\"机构名称\")\n",
    "        index_p=line[1][0].find(\"票据号\")\n",
    "        index_m=line[1][0].find(\"门诊号\")\n",
    "        index_t=line[1][0].find(\"时间\")\n",
    "        index_j=line[1][0].find(\"金额\")\n",
    "        if index_c>-1:\n",
    "            #print(f\"包含机构的字符串：{line[1][0]}\")\n",
    "            c.append(count)\n",
    "        if index_p>-1:\n",
    "            #print(f\"包含票据号的字符串：{line[1][0]}\")\n",
    "            p.append(count)\n",
    "        if index_m>-1:\n",
    "            #print(f\"包含门诊号的字符串：{line[1][0]}\")\n",
    "            m.append(count)\n",
    "        if index_t>-1:\n",
    "            #print(f\"包含时间的字符串：{line[1][0]}\")\n",
    "            t.append(count)\n",
    "        if index_j>-1:\n",
    "            #print(f\"包含金额的字符串：{line[1][0]}\")\n",
    "            j.append(count)\n",
    "        count+=1\n",
    "    mp=[];mm=[];mj=[];mt=[];mc=[]\n",
    "    for line in results[0]:\n",
    "        d_p=distance(line[0],results[0][p[0]][0])\n",
    "        d_m=distance(line[0],results[0][m[0]][0])\n",
    "        d_j=distance(line[0],results[0][j[0]][0])\n",
    "        d_t=distance(line[0],results[0][t[0]][0])\n",
    "        d_c=get_left_distance(results[0][c[0]][0],line[0])\n",
    "        cd=count_digits(line[1][0])\n",
    "        mp.append(cd-d_p)\n",
    "        mm.append(cd-d_m)\n",
    "        mj.append(cd-d_j)\n",
    "        mt.append(cd-d_t)\n",
    "        mc.append(-d_c)\n",
    "    i_p=np.argmax(np.array(mp))\n",
    "    i_m=np.argmax(np.array(mm))\n",
    "    i_j=np.argmax(np.array(mj))\n",
    "    i_t=np.argmax(np.array(mt))\n",
    "    i_c=np.argmax(np.array(mc))\n",
    "    print(i_p,i_m,i_j,i_t,i_c)\n",
    "    digits_m = extract_digits(results[0][i_m][1][0])\n",
    "    digits_p = extract_digits(results[0][i_p][1][0])\n",
    "    digits_j = extract_digits(results[0][i_j][1][0])\n",
    "    #print(f\"{digits_p[0]},{digits_m[0]},{digits_j[0]},\"+results[0][i_t][1][0]+results[0][i_c][1][0])\n",
    "    \n",
    "    return [results[0][i_c][1][0],digits_p[0],digits_m[0],results[0][i_t][1][0],digits_j[0]]\n",
    "data = pd.DataFrame(columns=[\"公司\",\"票据号\",\"门诊号\",\"时间\",\"金额\"])"
   ]
  },
  {
   "cell_type": "code",
   "execution_count": 8,
   "metadata": {},
   "outputs": [],
   "source": [
    "def get_data(path):\n",
    "    results=get_picture(path)\n",
    "    return get_ans(results)"
   ]
  },
  {
   "cell_type": "code",
   "execution_count": 15,
   "metadata": {},
   "outputs": [],
   "source": [
    "def half_auto_get_ans(por,results):\n",
    "    length=len(por)\n",
    "    count=0;answers=np.zeros(length);ans=[]\n",
    "    for line in results[0]:\n",
    "        count+=1\n",
    "        for i in range(length):\n",
    "            index=line[1][0].find(por[i][0])\n",
    "            if index>-1:\n",
    "                answers[i]=count\n",
    "    maxs=np.full(length, -100.0);indexs=np.zeros(length);count=0\n",
    "    for line in results[0]:\n",
    "        count+=1\n",
    "        for i in range(length):\n",
    "            if answers[i]==0:\n",
    "                continue\n",
    "            elif por[i][1]==\"i\":\n",
    "                d=distance(line[0],results[0][int(answers[i]-1)][0])\n",
    "                cd=count_digits(line[1][0])\n",
    "                if cd-d>maxs[i]:\n",
    "                    indexs[i]=count\n",
    "                    maxs[i]=cd-d\n",
    "            elif por[i][1]==\"c\":\n",
    "                d=-get_left_distance(results[0][int(answers[i]-1)][0],line[0])\n",
    "                if d>maxs[i]:\n",
    "                    indexs[i]=count\n",
    "                    maxs[i]=d\n",
    "    for i in range(length):\n",
    "        if answers[i]==0:\n",
    "            ans.append(\"#Error#\")\n",
    "        elif por[i][1]==\"i\":\n",
    "            ans.append(extract_digits(results[0][int(indexs[i]-1)][1][0])[0])\n",
    "        elif por[i][1]==\"c\":\n",
    "            ans.append(results[0][int(indexs[i]-1)][1][0])\n",
    "    return ans"
   ]
  },
  {
   "cell_type": "code",
   "execution_count": 16,
   "metadata": {},
   "outputs": [],
   "source": [
    "def half_auto_get_data(path,por,type,aimpath):\n",
    "    col=[]\n",
    "    for i in por :\n",
    "        col.append(i[0])\n",
    "    data = pd.DataFrame(columns=col)\n",
    "    if type==\"f\":\n",
    "        data.loc[len(data)]=half_auto_get_ans(por,get_picture(path))\n",
    "    elif type==\"d\":\n",
    "        fatherLists = os.listdir(path)\n",
    "        for c_path in fatherLists:\n",
    "            child_path=path+c_path\n",
    "            data.loc[len(data)]=half_auto_get_ans(por,get_picture(child_path))\n",
    "    data.to_csv(aimpath)\n",
    "    return data"
   ]
  },
  {
   "cell_type": "markdown",
   "metadata": {},
   "source": [
    "### 获取数据类型列表"
   ]
  },
  {
   "cell_type": "code",
   "execution_count": 17,
   "metadata": {},
   "outputs": [],
   "source": [
    "import API"
   ]
  },
  {
   "cell_type": "code",
   "execution_count": 18,
   "metadata": {},
   "outputs": [
    {
     "name": "stdout",
     "output_type": "stream",
     "text": [
      "任务2完成，耗时: 3.40s\n",
      "公司名称type is Please provide the data, and I'll categorize each item as either an integer (i) or a string (s).\n",
      "\n",
      "Please go ahead and provide the data.\n"
     ]
    },
    {
     "data": {
      "text/plain": [
       "[\"Please provide the data, and I'll categorize each item as either an integer (i) or a string (s).\\n\\nPlease go ahead and provide the data.\"]"
      ]
     },
     "execution_count": 18,
     "metadata": {},
     "output_type": "execute_result"
    }
   ],
   "source": [
    "def get_por_api(por_path):\n",
    "    data=pd.read_csv(por_path)\n",
    "    str=data.columns\n",
    "    results = []\n",
    "    all=\"\"\n",
    "    for i in str:\n",
    "        all=all+i+\" \"\n",
    "    messages=[\n",
    "        {\"role\": \"user\", \n",
    "         \"content\": f\"请分辨 {all} 属于哪种数据类型，其中数据类型包括两类：数字串（用i表示） 或者字符串（用s表示）.\"\n",
    "         +\"请输出一个序列，每项都为i或者，表示各个词的类，除了这个序列不要输出其他东西。\\n\"}]\n",
    "    re=API.get_respone_from_api(1,messages)\n",
    "    print(i+\"type is \"+re)\n",
    "    results.append(re)\n",
    "    return results\n",
    "por_path=\"aim.csv\"\n",
    "por=get_por_api(por_path)\n",
    "por"
   ]
  },
  {
   "cell_type": "code",
   "execution_count": 19,
   "metadata": {},
   "outputs": [],
   "source": [
    "# 设置属性名及属性类型\n",
    "por=[[\"门诊号\",\"i\"],[\"机构名称\",\"c\"]]"
   ]
  },
  {
   "cell_type": "code",
   "execution_count": 37,
   "metadata": {},
   "outputs": [
    {
     "name": "stdout",
     "output_type": "stream",
     "text": [
      "[2024/12/22 15:37:00] ppocr DEBUG: Namespace(help='==SUPPRESS==', use_gpu=False, use_xpu=False, use_npu=False, use_mlu=False, ir_optim=True, use_tensorrt=False, min_subgraph_size=15, precision='fp32', gpu_mem=500, gpu_id=0, image_dir=None, page_num=0, det_algorithm='DB', det_model_dir='C:\\\\Users\\\\86151/.paddleocr/whl\\\\det\\\\ch\\\\ch_PP-OCRv4_det_infer', det_limit_side_len=960, det_limit_type='max', det_box_type='quad', det_db_thresh=0.3, det_db_box_thresh=0.6, det_db_unclip_ratio=1.5, max_batch_size=10, use_dilation=False, det_db_score_mode='fast', det_east_score_thresh=0.8, det_east_cover_thresh=0.1, det_east_nms_thresh=0.2, det_sast_score_thresh=0.5, det_sast_nms_thresh=0.2, det_pse_thresh=0, det_pse_box_thresh=0.85, det_pse_min_area=16, det_pse_scale=1, scales=[8, 16, 32], alpha=1.0, beta=1.0, fourier_degree=5, rec_algorithm='SVTR_LCNet', rec_model_dir='C:\\\\Users\\\\86151/.paddleocr/whl\\\\rec\\\\ch\\\\ch_PP-OCRv4_rec_infer', rec_image_inverse=True, rec_image_shape='3, 48, 320', rec_batch_num=6, max_text_length=25, rec_char_dict_path='C:\\\\Users\\\\86151\\\\AppData\\\\Roaming\\\\Python\\\\Python311\\\\site-packages\\\\paddleocr\\\\ppocr\\\\utils\\\\ppocr_keys_v1.txt', use_space_char=True, vis_font_path='./doc/fonts/simfang.ttf', drop_score=0.5, e2e_algorithm='PGNet', e2e_model_dir=None, e2e_limit_side_len=768, e2e_limit_type='max', e2e_pgnet_score_thresh=0.5, e2e_char_dict_path='./ppocr/utils/ic15_dict.txt', e2e_pgnet_valid_set='totaltext', e2e_pgnet_mode='fast', use_angle_cls=True, cls_model_dir='C:\\\\Users\\\\86151/.paddleocr/whl\\\\cls\\\\ch_ppocr_mobile_v2.0_cls_infer', cls_image_shape='3, 48, 192', label_list=['0', '180'], cls_batch_num=6, cls_thresh=0.9, enable_mkldnn=False, cpu_threads=10, use_pdserving=False, warmup=False, sr_model_dir=None, sr_image_shape='3, 32, 128', sr_batch_num=1, draw_img_save_dir='./inference_results', save_crop_res=False, crop_res_save_dir='./output', use_mp=False, total_process_num=1, process_id=0, benchmark=False, save_log_path='./log_output/', show_log=True, use_onnx=False, return_word_box=False, output='./output', table_max_len=488, table_algorithm='TableAttn', table_model_dir=None, merge_no_span_structure=True, table_char_dict_path=None, formula_algorithm='LaTeXOCR', formula_model_dir=None, formula_char_dict_path=None, formula_batch_num=1, layout_model_dir=None, layout_dict_path=None, layout_score_threshold=0.5, layout_nms_threshold=0.5, kie_algorithm='LayoutXLM', ser_model_dir=None, re_model_dir=None, use_visual_backbone=True, ser_dict_path='../train_data/XFUND/class_list_xfun.txt', ocr_order_method=None, mode='structure', image_orientation=False, layout=True, table=True, formula=False, ocr=True, recovery=False, recovery_to_markdown=False, use_pdf2docx_api=False, invert=False, binarize=False, alphacolor=(255, 255, 255), lang='ch', det=True, rec=True, type='ocr', savefile=False, ocr_version='PP-OCRv4', structure_version='PP-StructureV2')\n",
      "[2024/12/22 15:37:02] ppocr DEBUG: dt_boxes num : 57, elapsed : 0.29299330711364746\n",
      "[2024/12/22 15:37:03] ppocr DEBUG: cls num  : 57, elapsed : 0.24811172485351562\n",
      "[2024/12/22 15:37:05] ppocr DEBUG: rec_res num  : 57, elapsed : 1.9094064235687256\n",
      "[2024/12/22 15:37:05] ppocr DEBUG: Namespace(help='==SUPPRESS==', use_gpu=False, use_xpu=False, use_npu=False, use_mlu=False, ir_optim=True, use_tensorrt=False, min_subgraph_size=15, precision='fp32', gpu_mem=500, gpu_id=0, image_dir=None, page_num=0, det_algorithm='DB', det_model_dir='C:\\\\Users\\\\86151/.paddleocr/whl\\\\det\\\\ch\\\\ch_PP-OCRv4_det_infer', det_limit_side_len=960, det_limit_type='max', det_box_type='quad', det_db_thresh=0.3, det_db_box_thresh=0.6, det_db_unclip_ratio=1.5, max_batch_size=10, use_dilation=False, det_db_score_mode='fast', det_east_score_thresh=0.8, det_east_cover_thresh=0.1, det_east_nms_thresh=0.2, det_sast_score_thresh=0.5, det_sast_nms_thresh=0.2, det_pse_thresh=0, det_pse_box_thresh=0.85, det_pse_min_area=16, det_pse_scale=1, scales=[8, 16, 32], alpha=1.0, beta=1.0, fourier_degree=5, rec_algorithm='SVTR_LCNet', rec_model_dir='C:\\\\Users\\\\86151/.paddleocr/whl\\\\rec\\\\ch\\\\ch_PP-OCRv4_rec_infer', rec_image_inverse=True, rec_image_shape='3, 48, 320', rec_batch_num=6, max_text_length=25, rec_char_dict_path='C:\\\\Users\\\\86151\\\\AppData\\\\Roaming\\\\Python\\\\Python311\\\\site-packages\\\\paddleocr\\\\ppocr\\\\utils\\\\ppocr_keys_v1.txt', use_space_char=True, vis_font_path='./doc/fonts/simfang.ttf', drop_score=0.5, e2e_algorithm='PGNet', e2e_model_dir=None, e2e_limit_side_len=768, e2e_limit_type='max', e2e_pgnet_score_thresh=0.5, e2e_char_dict_path='./ppocr/utils/ic15_dict.txt', e2e_pgnet_valid_set='totaltext', e2e_pgnet_mode='fast', use_angle_cls=True, cls_model_dir='C:\\\\Users\\\\86151/.paddleocr/whl\\\\cls\\\\ch_ppocr_mobile_v2.0_cls_infer', cls_image_shape='3, 48, 192', label_list=['0', '180'], cls_batch_num=6, cls_thresh=0.9, enable_mkldnn=False, cpu_threads=10, use_pdserving=False, warmup=False, sr_model_dir=None, sr_image_shape='3, 32, 128', sr_batch_num=1, draw_img_save_dir='./inference_results', save_crop_res=False, crop_res_save_dir='./output', use_mp=False, total_process_num=1, process_id=0, benchmark=False, save_log_path='./log_output/', show_log=True, use_onnx=False, return_word_box=False, output='./output', table_max_len=488, table_algorithm='TableAttn', table_model_dir=None, merge_no_span_structure=True, table_char_dict_path=None, formula_algorithm='LaTeXOCR', formula_model_dir=None, formula_char_dict_path=None, formula_batch_num=1, layout_model_dir=None, layout_dict_path=None, layout_score_threshold=0.5, layout_nms_threshold=0.5, kie_algorithm='LayoutXLM', ser_model_dir=None, re_model_dir=None, use_visual_backbone=True, ser_dict_path='../train_data/XFUND/class_list_xfun.txt', ocr_order_method=None, mode='structure', image_orientation=False, layout=True, table=True, formula=False, ocr=True, recovery=False, recovery_to_markdown=False, use_pdf2docx_api=False, invert=False, binarize=False, alphacolor=(255, 255, 255), lang='ch', det=True, rec=True, type='ocr', savefile=False, ocr_version='PP-OCRv4', structure_version='PP-StructureV2')\n",
      "[2024/12/22 15:37:07] ppocr DEBUG: dt_boxes num : 57, elapsed : 0.20924091339111328\n",
      "[2024/12/22 15:37:07] ppocr DEBUG: cls num  : 57, elapsed : 0.18556666374206543\n",
      "[2024/12/22 15:37:09] ppocr DEBUG: rec_res num  : 57, elapsed : 2.0587072372436523\n",
      "[2024/12/22 15:37:10] ppocr DEBUG: Namespace(help='==SUPPRESS==', use_gpu=False, use_xpu=False, use_npu=False, use_mlu=False, ir_optim=True, use_tensorrt=False, min_subgraph_size=15, precision='fp32', gpu_mem=500, gpu_id=0, image_dir=None, page_num=0, det_algorithm='DB', det_model_dir='C:\\\\Users\\\\86151/.paddleocr/whl\\\\det\\\\ch\\\\ch_PP-OCRv4_det_infer', det_limit_side_len=960, det_limit_type='max', det_box_type='quad', det_db_thresh=0.3, det_db_box_thresh=0.6, det_db_unclip_ratio=1.5, max_batch_size=10, use_dilation=False, det_db_score_mode='fast', det_east_score_thresh=0.8, det_east_cover_thresh=0.1, det_east_nms_thresh=0.2, det_sast_score_thresh=0.5, det_sast_nms_thresh=0.2, det_pse_thresh=0, det_pse_box_thresh=0.85, det_pse_min_area=16, det_pse_scale=1, scales=[8, 16, 32], alpha=1.0, beta=1.0, fourier_degree=5, rec_algorithm='SVTR_LCNet', rec_model_dir='C:\\\\Users\\\\86151/.paddleocr/whl\\\\rec\\\\ch\\\\ch_PP-OCRv4_rec_infer', rec_image_inverse=True, rec_image_shape='3, 48, 320', rec_batch_num=6, max_text_length=25, rec_char_dict_path='C:\\\\Users\\\\86151\\\\AppData\\\\Roaming\\\\Python\\\\Python311\\\\site-packages\\\\paddleocr\\\\ppocr\\\\utils\\\\ppocr_keys_v1.txt', use_space_char=True, vis_font_path='./doc/fonts/simfang.ttf', drop_score=0.5, e2e_algorithm='PGNet', e2e_model_dir=None, e2e_limit_side_len=768, e2e_limit_type='max', e2e_pgnet_score_thresh=0.5, e2e_char_dict_path='./ppocr/utils/ic15_dict.txt', e2e_pgnet_valid_set='totaltext', e2e_pgnet_mode='fast', use_angle_cls=True, cls_model_dir='C:\\\\Users\\\\86151/.paddleocr/whl\\\\cls\\\\ch_ppocr_mobile_v2.0_cls_infer', cls_image_shape='3, 48, 192', label_list=['0', '180'], cls_batch_num=6, cls_thresh=0.9, enable_mkldnn=False, cpu_threads=10, use_pdserving=False, warmup=False, sr_model_dir=None, sr_image_shape='3, 32, 128', sr_batch_num=1, draw_img_save_dir='./inference_results', save_crop_res=False, crop_res_save_dir='./output', use_mp=False, total_process_num=1, process_id=0, benchmark=False, save_log_path='./log_output/', show_log=True, use_onnx=False, return_word_box=False, output='./output', table_max_len=488, table_algorithm='TableAttn', table_model_dir=None, merge_no_span_structure=True, table_char_dict_path=None, formula_algorithm='LaTeXOCR', formula_model_dir=None, formula_char_dict_path=None, formula_batch_num=1, layout_model_dir=None, layout_dict_path=None, layout_score_threshold=0.5, layout_nms_threshold=0.5, kie_algorithm='LayoutXLM', ser_model_dir=None, re_model_dir=None, use_visual_backbone=True, ser_dict_path='../train_data/XFUND/class_list_xfun.txt', ocr_order_method=None, mode='structure', image_orientation=False, layout=True, table=True, formula=False, ocr=True, recovery=False, recovery_to_markdown=False, use_pdf2docx_api=False, invert=False, binarize=False, alphacolor=(255, 255, 255), lang='ch', det=True, rec=True, type='ocr', savefile=False, ocr_version='PP-OCRv4', structure_version='PP-StructureV2')\n",
      "[2024/12/22 15:37:12] ppocr DEBUG: dt_boxes num : 50, elapsed : 0.18473100662231445\n",
      "[2024/12/22 15:37:12] ppocr DEBUG: cls num  : 50, elapsed : 0.22693419456481934\n",
      "[2024/12/22 15:37:14] ppocr DEBUG: rec_res num  : 50, elapsed : 1.770641803741455\n"
     ]
    },
    {
     "ename": "KeyboardInterrupt",
     "evalue": "",
     "output_type": "error",
     "traceback": [
      "\u001b[1;31m---------------------------------------------------------------------------\u001b[0m",
      "\u001b[1;31mKeyboardInterrupt\u001b[0m                         Traceback (most recent call last)",
      "Cell \u001b[1;32mIn[37], line 1\u001b[0m\n\u001b[1;32m----> 1\u001b[0m \u001b[43mhalf_auto_get_data\u001b[49m\u001b[43m(\u001b[49m\u001b[38;5;124;43m\"\u001b[39;49m\u001b[38;5;124;43m./data1/\u001b[39;49m\u001b[38;5;124;43m\"\u001b[39;49m\u001b[43m,\u001b[49m\u001b[43mpor\u001b[49m\u001b[43m,\u001b[49m\u001b[38;5;124;43m\"\u001b[39;49m\u001b[38;5;124;43md\u001b[39;49m\u001b[38;5;124;43m\"\u001b[39;49m\u001b[43m,\u001b[49m\u001b[38;5;124;43m\"\u001b[39;49m\u001b[38;5;124;43mdata1_result.csv\u001b[39;49m\u001b[38;5;124;43m\"\u001b[39;49m\u001b[43m)\u001b[49m\n",
      "Cell \u001b[1;32mIn[16], line 12\u001b[0m, in \u001b[0;36mhalf_auto_get_data\u001b[1;34m(path, por, type, aimpath)\u001b[0m\n\u001b[0;32m     10\u001b[0m     \u001b[38;5;28;01mfor\u001b[39;00m c_path \u001b[38;5;129;01min\u001b[39;00m fatherLists:\n\u001b[0;32m     11\u001b[0m         child_path\u001b[38;5;241m=\u001b[39mpath\u001b[38;5;241m+\u001b[39mc_path\n\u001b[1;32m---> 12\u001b[0m         data\u001b[38;5;241m.\u001b[39mloc[\u001b[38;5;28mlen\u001b[39m(data)]\u001b[38;5;241m=\u001b[39m\u001b[43mhalf_auto_get_ans\u001b[49m\u001b[43m(\u001b[49m\u001b[43mpor\u001b[49m\u001b[43m,\u001b[49m\u001b[43mget_picture\u001b[49m\u001b[43m(\u001b[49m\u001b[43mchild_path\u001b[49m\u001b[43m)\u001b[49m\u001b[43m)\u001b[49m\n\u001b[0;32m     13\u001b[0m data\u001b[38;5;241m.\u001b[39mto_csv(aimpath)\n\u001b[0;32m     14\u001b[0m \u001b[38;5;28;01mreturn\u001b[39;00m data\n",
      "Cell \u001b[1;32mIn[15], line 3\u001b[0m, in \u001b[0;36mhalf_auto_get_ans\u001b[1;34m(por, results)\u001b[0m\n\u001b[0;32m      1\u001b[0m \u001b[38;5;28;01mdef\u001b[39;00m \u001b[38;5;21mhalf_auto_get_ans\u001b[39m(por,results):\n\u001b[0;32m      2\u001b[0m     length\u001b[38;5;241m=\u001b[39m\u001b[38;5;28mlen\u001b[39m(por)\n\u001b[1;32m----> 3\u001b[0m     count\u001b[38;5;241m=\u001b[39m\u001b[38;5;241m0\u001b[39m;answers\u001b[38;5;241m=\u001b[39mnp\u001b[38;5;241m.\u001b[39mzeros(length);ans\u001b[38;5;241m=\u001b[39m[]\n\u001b[0;32m      4\u001b[0m     \u001b[38;5;28;01mfor\u001b[39;00m line \u001b[38;5;129;01min\u001b[39;00m results[\u001b[38;5;241m0\u001b[39m]:\n\u001b[0;32m      5\u001b[0m         count\u001b[38;5;241m+\u001b[39m\u001b[38;5;241m=\u001b[39m\u001b[38;5;241m1\u001b[39m\n",
      "\u001b[1;31mKeyboardInterrupt\u001b[0m: "
     ]
    }
   ],
   "source": [
    "half_auto_get_data(\"./data1/\",por,\"d\",\"data1_result.csv\")"
   ]
  },
  {
   "cell_type": "code",
   "execution_count": null,
   "metadata": {},
   "outputs": [],
   "source": [
    "half_auto_get_data('picture1.jpg',por,\"f\",\"picture1_result.csv\")"
   ]
  },
  {
   "cell_type": "code",
   "execution_count": 5,
   "metadata": {},
   "outputs": [],
   "source": [
    "import tkinter as tk\n",
    "from tkinter import messagebox\n",
    "from tkinter import ttk\n",
    "import time"
   ]
  },
  {
   "cell_type": "code",
   "execution_count": 7,
   "metadata": {},
   "outputs": [],
   "source": [
    "def ui():\n",
    "    \n",
    "    # 创建主窗口\n",
    "    root = tk.Tk()\n",
    "    root.title(\"简单的 UI 示例\")\n",
    "    root.geometry(\"300x400\")\n",
    "\n",
    "    # 标签\n",
    "    label1 = tk.Label(root, text=\"请输入读入地址:\")\n",
    "    label1.pack()\n",
    "    entry1 = tk.Entry(root)\n",
    "    entry1.pack()\n",
    "    label2 = tk.Label(root, text=\"请输入读入地址类型:\")\n",
    "    label2.pack()\n",
    "    entry2 = tk.Entry(root)\n",
    "    entry2.pack()\n",
    "    label3 = tk.Label(root, text=\"请输入输出地址:\")\n",
    "    label3.pack()\n",
    "    entry3 = tk.Entry(root)\n",
    "    entry3.pack()\n",
    "\n",
    "    #    按钮点击事件\n",
    "    def greet():\n",
    "        in_path = entry1.get()\n",
    "        in_type = entry2.get()\n",
    "        out_path = entry3.get()\n",
    "        half_auto_get_data(in_path,por,in_type,out_path)\n",
    "        messagebox.showinfo(\"问候\")\n",
    "\n",
    "    # 按钮\n",
    "    button = tk.Button(root, text=\"提交\", command=greet)\n",
    "    button.pack(pady=10)\n",
    "\n",
    "    # 运行主循环\n",
    "    root.mainloop()"
   ]
  },
  {
   "cell_type": "code",
   "execution_count": null,
   "metadata": {},
   "outputs": [],
   "source": [
    "# 创建主窗口\n",
    "root = tk.Tk()\n",
    "root.title(\"进度条示例\")\n",
    "root.geometry(\"300x150\")\n",
    "\n",
    "# 创建进度条\n",
    "progress = ttk.Progressbar(root, orient=tk.HORIZONTAL, length=200, mode='determinate')\n",
    "progress.pack(pady=20)\n",
    "\n",
    "# 更新进度的函数\n",
    "def start_progress():\n",
    "    progress['value'] = 0  # 重置进度值\n",
    "    root.update_idletasks()  # 更新界面\n",
    "\n",
    "    for i in range(101):  # 从 0 到 100\n",
    "        time.sleep(0.05)  # 模拟工作\n",
    "        progress['value'] = i  # 更新进度值\n",
    "        root.update_idletasks()  # 更新界面\n",
    "\n",
    "# 按钮开始更新进度\n",
    "start_button = tk.Button(root, text=\"开始\", command=start_progress)\n",
    "start_button.pack(pady=10)\n",
    "\n",
    "# 运行主循环\n",
    "root.mainloop()"
   ]
  },
  {
   "cell_type": "code",
   "execution_count": 8,
   "metadata": {},
   "outputs": [],
   "source": [
    "import json\n",
    "import random\n",
    "from pathlib import Path\n",
    "import requests\n",
    "import time\n",
    "\n",
    "# Groq API 配置\n",
    "api_url = \"https://api.groq.com/openai/v1/chat/completions\"\n",
    "api_key = \"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\"  # 请确保你的API密钥正确\n",
    "headers = {\"Authorization\": f\"Bearer {api_key}\", \"Content-Type\": \"application/json\"}\n",
    "\n",
    "def get_respone_from_api(idx,message):\n",
    "    payload = {\n",
    "        \"model\": \"llama3-8b-8192\",\n",
    "        \"messages\": message,\n",
    "        \"max_tokens\": 200,\n",
    "        \"temperature\": 0.7\n",
    "    }\n",
    "    while True:  # 无限循环，直到任务成功或不再触发速率限制\n",
    "        start_time = time.time()\n",
    "        try:\n",
    "            response = requests.post(api_url, headers=headers, json=payload)\n",
    "            end_time = time.time()\n",
    "\n",
    "            if response.status_code == 200:\n",
    "                result = response.json()\n",
    "                model_response = result[\"choices\"][0][\"message\"][\"content\"].strip()\n",
    "                print(f\"任务{idx + 1}完成，耗时: {end_time - start_time:.2f}s\")\n",
    "                return model_response  # 任务成功，退出当前循环\n",
    "            elif response.status_code == 429:  # 触发速率限制\n",
    "                wait_time = float(response.json().get(\"error\", {}).get(\"message\", \"\").split(\"in \")[-1].split(\"ms\")[0]) / 1000\n",
    "                print(f\"任务 {idx + 1} 速率限制，等待 {wait_time:.2f}s 重试...\")\n",
    "                time.sleep(wait_time)  # 按照提示的时间等待\n",
    "            else:\n",
    "                print(f\"任务 {idx + 1} 出错，状态码: {response.status_code}, 响应: {response.text}\")\n",
    "                break  # 其他错误不重试\n",
    "        except Exception as e:\n",
    "            print(f\"任务 {idx + 1} 出错，网络错误: {str(e)}\")\n",
    "            break\n",
    "    return 0"
   ]
  },
  {
   "cell_type": "code",
   "execution_count": 20,
   "metadata": {},
   "outputs": [
    {
     "name": "stdout",
     "output_type": "stream",
     "text": [
      "[2024/12/22 14:38:00] ppocr DEBUG: Namespace(help='==SUPPRESS==', use_gpu=False, use_xpu=False, use_npu=False, use_mlu=False, ir_optim=True, use_tensorrt=False, min_subgraph_size=15, precision='fp32', gpu_mem=500, gpu_id=0, image_dir=None, page_num=0, det_algorithm='DB', det_model_dir='C:\\\\Users\\\\86151/.paddleocr/whl\\\\det\\\\ch\\\\ch_PP-OCRv4_det_infer', det_limit_side_len=960, det_limit_type='max', det_box_type='quad', det_db_thresh=0.3, det_db_box_thresh=0.6, det_db_unclip_ratio=1.5, max_batch_size=10, use_dilation=False, det_db_score_mode='fast', det_east_score_thresh=0.8, det_east_cover_thresh=0.1, det_east_nms_thresh=0.2, det_sast_score_thresh=0.5, det_sast_nms_thresh=0.2, det_pse_thresh=0, det_pse_box_thresh=0.85, det_pse_min_area=16, det_pse_scale=1, scales=[8, 16, 32], alpha=1.0, beta=1.0, fourier_degree=5, rec_algorithm='SVTR_LCNet', rec_model_dir='C:\\\\Users\\\\86151/.paddleocr/whl\\\\rec\\\\ch\\\\ch_PP-OCRv4_rec_infer', rec_image_inverse=True, rec_image_shape='3, 48, 320', rec_batch_num=6, max_text_length=25, rec_char_dict_path='C:\\\\Users\\\\86151\\\\AppData\\\\Roaming\\\\Python\\\\Python311\\\\site-packages\\\\paddleocr\\\\ppocr\\\\utils\\\\ppocr_keys_v1.txt', use_space_char=True, vis_font_path='./doc/fonts/simfang.ttf', drop_score=0.5, e2e_algorithm='PGNet', e2e_model_dir=None, e2e_limit_side_len=768, e2e_limit_type='max', e2e_pgnet_score_thresh=0.5, e2e_char_dict_path='./ppocr/utils/ic15_dict.txt', e2e_pgnet_valid_set='totaltext', e2e_pgnet_mode='fast', use_angle_cls=True, cls_model_dir='C:\\\\Users\\\\86151/.paddleocr/whl\\\\cls\\\\ch_ppocr_mobile_v2.0_cls_infer', cls_image_shape='3, 48, 192', label_list=['0', '180'], cls_batch_num=6, cls_thresh=0.9, enable_mkldnn=False, cpu_threads=10, use_pdserving=False, warmup=False, sr_model_dir=None, sr_image_shape='3, 32, 128', sr_batch_num=1, draw_img_save_dir='./inference_results', save_crop_res=False, crop_res_save_dir='./output', use_mp=False, total_process_num=1, process_id=0, benchmark=False, save_log_path='./log_output/', show_log=True, use_onnx=False, return_word_box=False, output='./output', table_max_len=488, table_algorithm='TableAttn', table_model_dir=None, merge_no_span_structure=True, table_char_dict_path=None, formula_algorithm='LaTeXOCR', formula_model_dir=None, formula_char_dict_path=None, formula_batch_num=1, layout_model_dir=None, layout_dict_path=None, layout_score_threshold=0.5, layout_nms_threshold=0.5, kie_algorithm='LayoutXLM', ser_model_dir=None, re_model_dir=None, use_visual_backbone=True, ser_dict_path='../train_data/XFUND/class_list_xfun.txt', ocr_order_method=None, mode='structure', image_orientation=False, layout=True, table=True, formula=False, ocr=True, recovery=False, recovery_to_markdown=False, use_pdf2docx_api=False, invert=False, binarize=False, alphacolor=(255, 255, 255), lang='ch', det=True, rec=True, type='ocr', savefile=False, ocr_version='PP-OCRv4', structure_version='PP-StructureV2')\n",
      "[2024/12/22 14:38:03] ppocr DEBUG: dt_boxes num : 57, elapsed : 0.9446437358856201\n",
      "[2024/12/22 14:38:04] ppocr DEBUG: cls num  : 57, elapsed : 0.32468199729919434\n",
      "[2024/12/22 14:38:06] ppocr DEBUG: rec_res num  : 57, elapsed : 2.3308417797088623\n"
     ]
    }
   ],
   "source": [
    "results = get_picture(\"picture1.jpg\")"
   ]
  },
  {
   "cell_type": "code",
   "execution_count": 27,
   "metadata": {},
   "outputs": [
    {
     "data": {
      "text/plain": [
       "'安微省医疗门诊收费票据'"
      ]
     },
     "execution_count": 27,
     "metadata": {},
     "output_type": "execute_result"
    }
   ],
   "source": [
    "results[0][0][1][0]"
   ]
  },
  {
   "cell_type": "code",
   "execution_count": 21,
   "metadata": {},
   "outputs": [],
   "source": [
    "s=\" \"\n",
    "for line in results[0]:\n",
    "    s+=(line[1][0]+\" \")"
   ]
  },
  {
   "cell_type": "code",
   "execution_count": 29,
   "metadata": {},
   "outputs": [
    {
     "data": {
      "text/plain": [
       "' 安微省医疗门诊收费票据 票据号：0025696429 门诊号：2010100229 好政部监 (19） 皮山县人民医院 00188 医疗机构类型： 医疗机构名称： 自费医疗 王宇峰 . 社会保隆号码 医保类 姓名： S9 金额 项目 项目 120 第一装 收据联 东莞股份有限公司印制 盖章有效遗失不补 2020-07-1718:39:43 就诊时间： 119-00 贰佰陆拾圆整 (） 合计（大写）： 120 18:39-43 医保统筹支 sts 收款人（签章）： 年 月 教款单位 章） 日 '"
      ]
     },
     "execution_count": 29,
     "metadata": {},
     "output_type": "execute_result"
    }
   ],
   "source": [
    "s"
   ]
  },
  {
   "cell_type": "markdown",
   "metadata": {},
   "source": [
    "## api\n"
   ]
  },
  {
   "cell_type": "code",
   "execution_count": 27,
   "metadata": {},
   "outputs": [],
   "source": [
    "import json\n",
    "import random\n",
    "from pathlib import Path\n",
    "import requests\n",
    "import time"
   ]
  },
  {
   "cell_type": "code",
   "execution_count": null,
   "metadata": {},
   "outputs": [],
   "source": [
    "# Groq API 配置\n",
    "api_url = \"https://api.groq.com/openai/v1/chat/completions\"\n",
    "api_key = \"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\"  # 请确保你的API密钥正确\n",
    "headers = {\"Authorization\": f\"Bearer {api_key}\", \"Content-Type\": \"application/json\"}"
   ]
  },
  {
   "cell_type": "code",
   "execution_count": 28,
   "metadata": {},
   "outputs": [],
   "source": [
    "def get_respone_from_api(idx,message):\n",
    "    payload = {\n",
    "        \"model\": \"llama3-8b-8192\",\n",
    "        \"messages\": message,\n",
    "        \"max_tokens\": 200,\n",
    "        \"temperature\": 0.7\n",
    "    }\n",
    "    while True:  # 无限循环，直到任务成功或不再触发速率限制\n",
    "        start_time = time.time()\n",
    "        try:\n",
    "            response = requests.post(api_url, headers=headers, json=payload)\n",
    "            end_time = time.time()\n",
    "\n",
    "            if response.status_code == 200:\n",
    "                result = response.json()\n",
    "                model_response = result[\"choices\"][0][\"message\"][\"content\"].strip()\n",
    "                print(f\"任务{idx + 1}完成，耗时: {end_time - start_time:.2f}s\")\n",
    "                return model_response  # 任务成功，退出当前循环\n",
    "            elif response.status_code == 429:  # 触发速率限制\n",
    "                wait_time = float(response.json().get(\"error\", {}).get(\"message\", \"\").split(\"in \")[-1].split(\"ms\")[0]) / 1000\n",
    "                print(f\"任务 {idx + 1} 速率限制，等待 {wait_time:.2f}s 重试...\")\n",
    "                time.sleep(wait_time)  # 按照提示的时间等待\n",
    "            else:\n",
    "                print(f\"任务 {idx + 1} 出错，状态码: {response.status_code}, 响应: {response.text}\")\n",
    "                break  # 其他错误不重试\n",
    "        except Exception as e:\n",
    "            print(f\"任务 {idx + 1} 出错，网络错误: {str(e)}\")\n",
    "            break\n",
    "    return 0"
   ]
  },
  {
   "cell_type": "code",
   "execution_count": 23,
   "metadata": {},
   "outputs": [],
   "source": [
    "message = [{\"role\": \"user\", \"content\": \"请帮我识别以下用空格分隔的字符串，找出可能是数字的部分，并返回这些数字的个数和位置。格式为index:第几个字符串 number:识别的数字 len :数字长度 \\n\"+s}]"
   ]
  },
  {
   "cell_type": "code",
   "execution_count": 34,
   "metadata": {},
   "outputs": [
    {
     "name": "stdout",
     "output_type": "stream",
     "text": [
      "任务1完成，耗时: 0.78s\n"
     ]
    }
   ],
   "source": [
    "api_respone=get_respone_from_api(0,message)"
   ]
  },
  {
   "cell_type": "code",
   "execution_count": 35,
   "metadata": {},
   "outputs": [
    {
     "name": "stdout",
     "output_type": "stream",
     "text": [
      "[\"I'd be happy to help you identify the possible numbers in the given string and provide their count, position, and length.\", '', 'Here are the results:', '', '1. index: 2, number: 0025696429, len: 10', '2. index: 6, number: 2010100229, len: 9', '3. index: 14, number: 19, len: 2', '4. index: 17, number: 00188, len: 5', '5. index: 31, number: 2020, len: 4', '6. index: 34, number: 1718, len: 4', '7. index: 38, number: 119, len: 3', '8. index: 41, number: 120, len: 3', '9. index: 43, number: 18, len: 2', '10. index: 51, number']\n"
     ]
    }
   ],
   "source": [
    "test=api_respone.split(\"\\n\")\n",
    "print(test)\n"
   ]
  },
  {
   "cell_type": "code",
   "execution_count": 1,
   "metadata": {},
   "outputs": [],
   "source": [
    "import cv2\n",
    "import numpy as np"
   ]
  },
  {
   "cell_type": "code",
   "execution_count": 9,
   "metadata": {},
   "outputs": [],
   "source": [
    "def sharpen_image(image_path,s_dic):\n",
    "    # 读取图片\n",
    "    image = cv2.imread(image_path)\n",
    "    \n",
    "    # 创建锐化内核\n",
    "    sharpening_kernel = np.array([[0, -1, 0],\n",
    "                               [-1, 5, -1],\n",
    "                               [0, -1, 0]])\n",
    "\n",
    "    # 应用锐化滤波器\n",
    "    sharpened_image = cv2.filter2D(image, -1, sharpening_kernel)\n",
    "\n",
    "    # 保存锐化后的图片\n",
    "    cv2.imwrite('sharpened/'+image_path, sharpened_image)"
   ]
  },
  {
   "cell_type": "code",
   "execution_count": 10,
   "metadata": {},
   "outputs": [],
   "source": [
    "sharpen_image(\"picture1.jpg\",\"sharpened/\")"
   ]
  },
  {
   "cell_type": "code",
   "execution_count": 14,
   "metadata": {},
   "outputs": [
    {
     "data": {
      "text/plain": [
       "False"
      ]
     },
     "execution_count": 14,
     "metadata": {},
     "output_type": "execute_result"
    }
   ],
   "source": [
    "image_path=\"picture1.jpg\"\n",
    "image = cv2.imread(image_path)\n",
    "    \n",
    "    # 创建锐化内核\n",
    "sharpening_kernel = np.array([[0, -1, 0],\n",
    "                               [-1, 5, -1],\n",
    "                               [0, -1, 0]])\n",
    "\n",
    "    # 应用锐化滤波器\n",
    "sharpened_image = cv2.filter2D(image, -1, sharpening_kernel)\n",
    "\n",
    "    # 保存锐化后的图片\n",
    "cv2.imwrite('s//'+image_path, sharpened_image)"
   ]
  },
  {
   "cell_type": "markdown",
   "metadata": {},
   "source": [
    "## evaluation"
   ]
  },
  {
   "cell_type": "code",
   "execution_count": 5,
   "metadata": {},
   "outputs": [],
   "source": [
    "import json\n",
    "import pandas as pd"
   ]
  },
  {
   "cell_type": "code",
   "execution_count": 3,
   "metadata": {},
   "outputs": [
    {
     "name": "stdout",
     "output_type": "stream",
     "text": [
      "[{'filename': '47.jpg', 'entities': [{'text': '杨性坤', 'label': '购买方名称'}, {'text': '纯电动多用途乘用车', 'label': '车辆类型'}, {'text': '本田牌MZLFOCLGRPOU', 'label': '厂牌型号'}, {'text': '上海', 'label': '产地'}, {'text': 'TG321316003581', 'label': '发动机号'}, {'text': '浙江宝马汽车销售服务有限公司', 'label': '销售单位名称'}, {'text': '867186208750413331', 'label': '纳税人识别号'}, {'text': '花旗银行（中国）有限公司杭州分行', 'label': '开户银行'}, {'text': '73803.84', 'label': '增值税税额'}, {'text': '244247.79', 'label': '不含税价'}, {'text': '国家税务总局杭州市萧山区税务局经济技术开发区税务所13301099200', 'label': '主管税务机关及代码'}]}, {'filename': '34.jpg', 'entities': [{'text': '丁灵琳', 'label': '购买方名称'}, {'text': '纯电动多用途乘用车', 'label': '车辆类型'}, {'text': '红旗牌8RPNG1SLSL', 'label': '厂牌型号'}, {'text': '上海', 'label': '产地'}, {'text': 'TG321316003581', 'label': '发动机号'}, {'text': '北京长征销售服务有限公司', 'label': '销售单位名称'}, {'text': '581978217200132381', 'label': '纳税人识别号'}, {'text': '花旗银行（中国）有限公司杭州分行', 'label': '开户银行'}, {'text': '261182.45', 'label': '增值税税额'}, {'text': '244247.79', 'label': '不含税价'}, {'text': '国家税务总局杭州市萧山区税务局经济技术开发区税务所13301099200', 'label': '主管税务机关及代码'}]}, {'filename': '42.jpg', 'entities': [{'text': '王世锐', 'label': '购买方名称'}, {'text': '纯电动多用途乘用车', 'label': '车辆类型'}, {'text': '特斯拉牌0JKW7PKIJD10', 'label': '厂牌型号'}, {'text': '上海', 'label': '产地'}, {'text': 'TG321316003581', 'label': '发动机号'}, {'text': '河北本田销售服务有限公司', 'label': '销售单位名称'}, {'text': '734855545062193803', 'label': '纳税人识别号'}, {'text': '花旗银行（中国）有限公司杭州分行', 'label': '开户银行'}, {'text': '64838.70', 'label': '增值税税额'}, {'text': '244247.79', 'label': '不含税价'}, {'text': '国家税务总局杭州市萧山区税务局经济技术开发区税务所13301099200', 'label': '主管税务机关及代码'}]}, {'filename': '53.jpg', 'entities': [{'text': '罗梦依', 'label': '购买方名称'}, {'text': '多用途货车', 'label': '车辆类型'}, {'text': '五菱牌DVCYVMHOXR', 'label': '厂牌型号'}, {'text': '重庆永川', 'label': '产地'}, {'text': '21195092846', 'label': '发动机号'}, {'text': '四川五菱销售服务有限公司', 'label': '销售单位名称'}, {'text': '137628668793622741', 'label': '纳税人识别号'}, {'text': '工商银行南宁明秀支行', 'label': '开户银行'}, {'text': '577215.59', 'label': '增值税税额'}, {'text': '98053.10', 'label': '不含税价'}, {'text': '国家税务总局南宁高新技术产业开发区税务局心圩税务分局14501940500', 'label': '主管税务机关及代码'}]}, {'filename': '46.jpg', 'entities': [{'text': '付海超', 'label': '购买方名称'}, {'text': '纯电动多用途乘用车', 'label': '车辆类型'}, {'text': '宝马牌9QTRPDCGCQ6G', 'label': '厂牌型号'}, {'text': '上海', 'label': '产地'}, {'text': 'TG321316003581', 'label': '发动机号'}, {'text': '江西五菱汽车销售服务有限公司', 'label': '销售单位名称'}, {'text': '486446313001564828', 'label': '纳税人识别号'}, {'text': '花旗银行（中国）有限公司杭州分行', 'label': '开户银行'}, {'text': '503349.54', 'label': '增值税税额'}, {'text': '244247.79', 'label': '不含税价'}, {'text': '国家税务总局杭州市萧山区税务局经济技术开发区税务所13301099200', 'label': '主管税务机关及代码'}]}, {'filename': '44.jpg', 'entities': [{'text': '许瑞芬', 'label': '购买方名称'}, {'text': '多用途货车', 'label': '车辆类型'}, {'text': '小鹏牌LGQ6G586GKZSL', 'label': '厂牌型号'}, {'text': '重庆永川', 'label': '产地'}, {'text': '21195092846', 'label': '发动机号'}, {'text': '云南本田汽车销售服务有限公司', 'label': '销售单位名称'}, {'text': '237700282733883365', 'label': '纳税人识别号'}, {'text': '工商银行南宁明秀支行', 'label': '开户银行'}, {'text': '30304.55', 'label': '增值税税额'}, {'text': '国家税务总局南宁高新技术产业开发区税务局心圩税务分局14501940500', 'label': '主管税务机关及代码'}]}, {'filename': '41.jpg', 'entities': [{'text': '王庭梅', 'label': '购买方名称'}, {'text': '纯电动多用途乘用车', 'label': '车辆类型'}, {'text': '建国牌6Y66YCRZB3', 'label': '厂牌型号'}, {'text': '上海', 'label': '产地'}, {'text': 'TG321316003581', 'label': '发动机号'}, {'text': '山西五菱销售服务有限公司', 'label': '销售单位名称'}, {'text': '566879501226853422', 'label': '纳税人识别号'}, {'text': '花旗银行（中国）有限公司杭州分行', 'label': '开户银行'}, {'text': '59168.75', 'label': '增值税税额'}, {'text': '244247.79', 'label': '不含税价'}, {'text': '国家税务总局杭州市萧山区税务局经济技术开发区税务所13301099200', 'label': '主管税务机关及代码'}]}, {'filename': '37.jpg', 'entities': [{'text': '鲍春', 'label': '购买方名称'}, {'text': '多用途货车', 'label': '车辆类型'}, {'text': '长城牌N8SJCWBA71GLC4', 'label': '厂牌型号'}, {'text': '重庆永川', 'label': '产地'}, {'text': '21195092846', 'label': '发动机号'}, {'text': '四川特斯拉销售服务有限公司', 'label': '销售单位名称'}, {'text': '780607969477132073', 'label': '纳税人识别号'}, {'text': '工商银行南宁明秀支行', 'label': '开户银行'}, {'text': '64845.11', 'label': '增值税税额'}, {'text': '98053.10', 'label': '不含税价'}, {'text': '国家税务总局南宁高新技术产业开发区税务局心圩税务分展', 'label': '主管税务机关及代码'}]}, {'filename': '49.jpg', 'entities': [{'text': '刘子印', 'label': '购买方名称'}, {'text': '纯电动多用途乘用车', 'label': '车辆类型'}, {'text': '宝马牌5AJ8A34863GR3IQ', 'label': '厂牌型号'}, {'text': '上海', 'label': '产地'}, {'text': 'TG321316003581', 'label': '发动机号'}, {'text': '湖南小鹏销售服务有限公司', 'label': '销售单位名称'}, {'text': '942621964746591357', 'label': '纳税人识别号'}, {'text': '花旗银行（中国）有限公司杭州分行', 'label': '开户银行'}, {'text': '73292.63', 'label': '增值税税额'}, {'text': '244247.79', 'label': '不含税价'}, {'text': '国家税务总局杭州市萧山区税务局经济技术开发区税务所13301099200', 'label': '主管税务机关及代码'}]}, {'filename': '33.jpg', 'entities': [{'text': '付建江', 'label': '购买方名称'}, {'text': '纯电动多用途乘用车', 'label': '车辆类型'}, {'text': '五菱牌P2NBMNUZN21VZ', 'label': '厂牌型号'}, {'text': '上海', 'label': '产地'}, {'text': 'TG321316003581', 'label': '发动机号'}, {'text': '安徽本田汽车销售服务有限公司', 'label': '销售单位名称'}, {'text': '687189257972540752', 'label': '纳税人识别号'}, {'text': '花旗银行（中国）有限公司杭州分行', 'label': '开户银行'}, {'text': '84764.35', 'label': '增值税税额'}, {'text': '244247.79', 'label': '不含税价'}, {'text': '国家税务总局杭州市萧山区税务局经济技术开发区税务所13301099200', 'label': '主管税务机关及代码'}]}, {'filename': '38.jpg', 'entities': [{'text': '李高源', 'label': '购买方名称'}, {'text': '多用途货车', 'label': '车辆类型'}, {'text': '奥迪牌D7944NURM2C', 'label': '厂牌型号'}, {'text': '重庆永川', 'label': '产地'}, {'text': '21195092846', 'label': '发动机号'}, {'text': '浙江红旗销售服务有限公司', 'label': '销售单位名称'}, {'text': '554415180848293561', 'label': '纳税人识别号'}, {'text': '工商银行南宁明秀支行', 'label': '开户银行'}, {'text': '955755.95', 'label': '增值税税额'}, {'text': '244247.79', 'label': '不含税价'}, {'text': '国家税务总局南宁高新技术产业开发区税务局心圩税务分局14501940500', 'label': '主管税务机关及代码'}]}, {'filename': '35.jpg', 'entities': [{'text': '蒋桂山', 'label': '购买方名称'}, {'text': '纯电动多用途乘用车', 'label': '车辆类型'}, {'text': '五菱牌WSVF1CTCBCPQU', 'label': '厂牌型号'}, {'text': '上海', 'label': '产地'}, {'text': 'TG321316003581', 'label': '发动机号'}, {'text': '河北特斯拉销售服务有限公司', 'label': '销售单位名称'}, {'text': '101036270475701723', 'label': '纳税人识别号'}, {'text': '花旗银行（中国）有限公司杭州分行', 'label': '开户银行'}, {'text': '31345.64', 'label': '增值税税额'}, {'text': '244247.79', 'label': '不含税价'}, {'text': '国家税务总局杭州市萧山区税务局经济技术开发区税务所13301099200', 'label': '主管税务机关及代码'}]}, {'filename': '52.jpg', 'entities': [{'text': '薄惠萍', 'label': '购买方名称'}, {'text': '多用途货车', 'label': '车辆类型'}, {'text': '长城牌3RSSXLK68B', 'label': '厂牌型号'}, {'text': '重庆永川', 'label': '产地'}, {'text': '21195092846', 'label': '发动机号'}, {'text': '福建长征汽车销售服务有限公司', 'label': '销售单位名称'}, {'text': '718142055957040901', 'label': '纳税人识别号'}, {'text': '工商银行南宁明秀支行', 'label': '开户银行'}, {'text': '953208.20', 'label': '增值税税额'}, {'text': '98053.10', 'label': '不含税价'}, {'text': '国家税务总局南宁高新技术产业开发区税务局心圩税务分局14501940500', 'label': '主管税务机关及代码'}]}, {'filename': '30.jpg', 'entities': [{'text': '卢锦', 'label': '购买方名称'}, {'text': '多用途货车', 'label': '车辆类型'}, {'text': '奥迪牌UOXDW3BGK5C', 'label': '厂牌型号'}, {'text': '重庆永川', 'label': '产地'}, {'text': '21195092846', 'label': '发动机号'}, {'text': '山西小鹏销售服务有限公司', 'label': '销售单位名称'}, {'text': '313246538304100071', 'label': '纳税人识别号'}, {'text': '工商银行南宁明秀支行', 'label': '开户银行'}, {'text': '37011.95', 'label': '增值税税额'}, {'text': '98053.10', 'label': '不含税价'}, {'text': '国家税务总局南宁高新技术产业开发区税务局心圩税务分局14501940500', 'label': '主管税务机关及代码'}]}, {'filename': '59.jpg', 'entities': [{'text': '刘书才', 'label': '购买方名称'}, {'text': '多用途货车', 'label': '车辆类型'}, {'text': '宝马牌8LUPUKZOC3Y', 'label': '厂牌型号'}, {'text': '重庆永川', 'label': '产地'}, {'text': '21195092846', 'label': '发动机号'}, {'text': '山西奥迪销售服务有限公司', 'label': '销售单位名称'}, {'text': '558131102184846375', 'label': '纳税人识别号'}, {'text': '工商银行南宁明秀支行', 'label': '开户银行'}, {'text': '690388.81', 'label': '增值税税额'}, {'text': '98053.10', 'label': '不含税价'}, {'text': '国家税务总局南宁高新技术产业开发区税务局心圩税务分局14501940500', 'label': '主管税务机关及代码'}]}, {'filename': '32.jpg', 'entities': [{'text': '胡昭广', 'label': '购买方名称'}, {'text': '纯电动多用途乘用车', 'label': '车辆类型'}, {'text': '奥迪牌3JH9SAODZ4WYRXK', 'label': '厂牌型号'}, {'text': '上海', 'label': '产地'}, {'text': 'TG321316003581', 'label': '发动机号'}, {'text': '江西特斯拉销售服务有限公司', 'label': '销售单位名称'}, {'text': '547818787025029484', 'label': '纳税人识别号'}, {'text': '花旗银行（中国）有限公司杭州分行', 'label': '开户银行'}, {'text': '377770.98', 'label': '增值税税额'}, {'text': '244247.79', 'label': '不含税价'}, {'text': '国家税务总局杭州市萧山区税务局经济技术开发区税务所13301099200', 'label': '主管税务机关及代码'}]}, {'filename': '55.jpg', 'entities': [{'text': '颜丽秋', 'label': '购买方名称'}, {'text': '纯电动多用途乘用车', 'label': '车辆类型'}, {'text': '宝马牌MJ822MOZP9U', 'label': '厂牌型号'}, {'text': '上海', 'label': '产地'}, {'text': 'TG321316003581', 'label': '发动机号'}, {'text': '山西小鹏销售服务有限公司', 'label': '销售单位名称'}, {'text': '533440957203575908', 'label': '纳税人识别号'}, {'text': '花旗银行（中国）有限公司杭州分行', 'label': '开户银行'}, {'text': '26550.31', 'label': '增值税税额'}, {'text': '244247.79', 'label': '不含税价'}, {'text': '国家税务总局杭州市萧山区税务局经济技术开发区税务所13301099200', 'label': '主管税务机关及代码'}]}, {'filename': '56.jpg', 'entities': [{'text': '狄文英', 'label': '购买方名称'}, {'text': '纯电动多用途乘用车', 'label': '车辆类型'}, {'text': '长城牌ZXFDPHGQOXHHH', 'label': '厂牌型号'}, {'text': '上海', 'label': '产地'}, {'text': 'TG321316003581', 'label': '发动机号'}, {'text': '浙江长征汽车销售服务有限公司', 'label': '销售单位名称'}, {'text': '613740861253130290', 'label': '纳税人识别号'}, {'text': '花旗银行（中国）有限公司杭州分行', 'label': '开户银行'}, {'text': '616098.61', 'label': '增值税税额'}, {'text': '￥244247.79', 'label': '不含税价'}, {'text': '国家税务总局杭州市萧山区税务局经济技术开发区税务所13301099200', 'label': '主管税务机关及代码'}]}, {'filename': '54.jpg', 'entities': [{'text': '孙旭春', 'label': '购买方名称'}, {'text': '纯电动多用途乘用车', 'label': '车辆类型'}, {'text': '小鹏牌28UPFR941HK', 'label': '厂牌型号'}, {'text': '上海', 'label': '产地'}, {'text': '北京五菱销售服务有限公司', 'label': '销售单位名称'}, {'text': '554415180848293561', 'label': '纳税人识别号'}, {'text': '花旗银行（中国）有限公司杭州分行', 'label': '开户银行'}, {'text': '616098.61', 'label': '增值税税额'}, {'text': '244247.79', 'label': '不含税价'}, {'text': '国家税务总局杭州市萧山区税务局经济技术开发区税务所13301099200', 'label': '主管税务机关及代码'}]}, {'filename': '51.jpg', 'entities': [{'text': '薛伟敏', 'label': '购买方名称'}, {'text': '多用途货车', 'label': '车辆类型'}, {'text': '长征牌11Q4YRXHH8NGV', 'label': '厂牌型号'}, {'text': '重庆永川', 'label': '产地'}, {'text': '21195092846', 'label': '发动机号'}, {'text': '吉林五菱销售服务有限公司', 'label': '销售单位名称'}, {'text': '073039961289836804', 'label': '纳税人识别号'}, {'text': '工商银行南宁明秀支行', 'label': '开户银行'}, {'text': '26998.43', 'label': '增值税税额'}, {'text': '98053.10', 'label': '不含税价'}, {'text': '国家税务总局南宁高新技术产业开发区税务局心圩税务分局14501940500', 'label': '主管税务机关及代码'}]}, {'filename': '48.jpg', 'entities': [{'text': '邢宸', 'label': '购买方名称'}, {'text': '纯电动多用途乘用车', 'label': '车辆类型'}, {'text': '宝马牌UGHBKAOV2AQ', 'label': '厂牌型号'}, {'text': '上海', 'label': '产地'}, {'text': 'TG321316003581', 'label': '发动机号'}, {'text': '安徽本田销售服务有限公司', 'label': '销售单位名称'}, {'text': '406036354069056597', 'label': '纳税人识别号'}, {'text': '花旗银行（中国）有限公司杭州分行', 'label': '开户银行'}, {'text': '867746.28', 'label': '增值税税额'}, {'text': '244247.79', 'label': '不含税价'}, {'text': '国家税务总局杭州市萧山区税务局经济技术开发区税务所13301099200', 'label': '主管税务机关及代码'}]}, {'filename': '50.jpg', 'entities': [{'text': '夏连军', 'label': '购买方名称'}, {'text': '纯电动多用途乘用车', 'label': '车辆类型'}, {'text': '建国牌51HBIXWBUG8HFJ5', 'label': '厂牌型号'}, {'text': '上海', 'label': '产地'}, {'text': 'TG321316003581', 'label': '发动机号'}, {'text': '甘肃特斯拉汽车销售服务有限公司', 'label': '销售单位名称'}, {'text': '421934417101458854', 'label': '纳税人识别号'}, {'text': '花旗银行（中国）有限公司杭州分行', 'label': '开户银行'}, {'text': '902177.36', 'label': '增值税税额'}, {'text': '244247.79', 'label': '不含税价'}, {'text': '国家税务总局杭州市萧山区税务局经济技术开发区税务所13301099200', 'label': '主管税务机关及代码'}]}, {'filename': '45.jpg', 'entities': [{'text': '王丰和', 'label': '购买方名称'}, {'text': '纯电动多用途乘用车', 'label': '车辆类型'}, {'text': '建国牌VHTD73BH84J', 'label': '厂牌型号'}, {'text': '上海', 'label': '产地'}, {'text': 'TG321316003581', 'label': '发动机号'}, {'text': '甘肃大众销售服务有限公司', 'label': '销售单位名称'}, {'text': '579902570136005268', 'label': '纳税人识别号'}, {'text': '花旗银行（中国）有限公司杭州分行', 'label': '开户银行'}, {'text': '70478.67', 'label': '增值税税额'}, {'text': '244247.79', 'label': '不含税价'}, {'text': '国家税务总局杭州市萧山区税务局经济技术开发区税务所13301099200', 'label': '主管税务机关及代码'}]}, {'filename': '39.jpg', 'entities': [{'text': '金红翔', 'label': '购买方名称'}, {'text': '纯电动多用途乘用车', 'label': '车辆类型'}, {'text': '红旗牌9BD8UTKASORG1B', 'label': '厂牌型号'}, {'text': '上海', 'label': '产地'}, {'text': 'TG321316003581', 'label': '发动机号'}, {'text': '北京五菱销售服务有限公司', 'label': '销售单位名称'}, {'text': '701817238472164895', 'label': '纳税人识别号'}, {'text': '花旗银行（中国）有限公司杭州分行', 'label': '开户银行'}, {'text': '35022.65', 'label': '增值税税额'}, {'text': '244247.79', 'label': '不含税价'}, {'text': '国家税务总局杭州市萧山区税务局经济技术开发区税务所13301099200', 'label': '主管税务机关及代码'}]}, {'filename': '58.jpg', 'entities': [{'text': '罗伟德', 'label': '购买方名称'}, {'text': '多用途货车', 'label': '车辆类型'}, {'text': '小鹏牌OL22NBDZMWMA', 'label': '厂牌型号'}, {'text': '重庆永川', 'label': '产地'}, {'text': '21195092846', 'label': '发动机号'}, {'text': '山东长征销售服务有限公司', 'label': '销售单位名称'}, {'text': '581978217200132381', 'label': '纳税人识别号'}, {'text': '工商银行南宁明秀支行', 'label': '开户银行'}, {'text': '31347.76', 'label': '增值税税额'}, {'text': '98053.10', 'label': '不含税价'}, {'text': '国家税务总局南宁高新技术产业开发区税务局心圩税务分局14501940500', 'label': '主管税务机关及代码'}]}, {'filename': '40.jpg', 'entities': [{'text': '孙建新', 'label': '购买方名称'}, {'text': '纯电动多用途乘用车', 'label': '车辆类型'}, {'text': '宝马牌5S5H8K11L5XBX9', 'label': '厂牌型号'}, {'text': '上海', 'label': '产地'}, {'text': 'TG321316003581', 'label': '发动机号'}, {'text': '四川奥迪销售服务有限公司', 'label': '销售单位名称'}, {'text': '369596114265515742', 'label': '纳税人识别号'}, {'text': '花旗银行（中国）有限公司杭州分行', 'label': '开户银行'}, {'text': '643809.94', 'label': '增值税税额'}, {'text': '244247.79', 'label': '不含税价'}, {'text': '国家税务总局杭州市萧山区税务局经济技术开发区税务所13301099200', 'label': '主管税务机关及代码'}]}, {'filename': '43.jpg', 'entities': [{'text': '曲秀玲', 'label': '购买方名称'}, {'text': '多用途货车', 'label': '车辆类型'}, {'text': '长城牌U95GHTJUXB1FV', 'label': '厂牌型号'}, {'text': '重庆永川', 'label': '产地'}, {'text': '21195092846', 'label': '发动机号'}, {'text': '吉林五菱销售服务有限公司', 'label': '销售单位名称'}, {'text': '746281416820900567', 'label': '纳税人识别号'}, {'text': '工商银行南宁明秀支行', 'label': '开户银行'}, {'text': '86589.95', 'label': '增值税税额'}, {'text': '98053.10', 'label': '不含税价'}, {'text': '国家税务总局南宁高新技术产业开发区税务局心圩税务分局14501940500', 'label': '主管税务机关及代码'}]}, {'filename': '57.jpg', 'entities': [{'text': '高利芳', 'label': '购买方名称'}, {'text': '纯电动多用途乘用车', 'label': '车辆类型'}, {'text': '大众牌359UHB4JQX1Q2', 'label': '厂牌型号'}, {'text': '上海', 'label': '产地'}, {'text': 'TG321316003581', 'label': '发动机号'}, {'text': '甘肃特斯拉汽车销售服务有限公司', 'label': '销售单位名称'}, {'text': '867186208750413331', 'label': '纳税人识别号'}, {'text': '花旗银行（中国）有限公司杭州分行', 'label': '开户银行'}, {'text': '117880.71', 'label': '增值税税额'}, {'text': '￥244247.79', 'label': '不含税价'}, {'text': '国家税务总局杭州市萧山区税务局经济技术开发区税务所13301099200', 'label': '主管税务机关及代码'}]}, {'filename': '36.jpg', 'entities': [{'text': '樊先', 'label': '购买方名称'}, {'text': '多用途货车', 'label': '车辆类型'}, {'text': '奥迪牌81K2G1F2DTG', 'label': '厂牌型号'}, {'text': '重庆永川', 'label': '产地'}, {'text': '21195092846', 'label': '发动机号'}, {'text': '甘肃长征销售服务有限公司', 'label': '销售单位名称'}, {'text': '701817238472164895', 'label': '纳税人识别号'}, {'text': '工商银行南宁明秀支行', 'label': '开户银行'}, {'text': '256248.06', 'label': '增值税税额'}, {'text': '98053.10', 'label': '不含税价'}, {'text': '国家税务总局南宁高新技术产业开发区税务局心圩税务分局14501940500', 'label': '主管税务机关及代码'}]}, {'filename': '31.jpg', 'entities': [{'text': '林飞凤', 'label': '购买方名称'}, {'text': '多用途货车', 'label': '车辆类型'}, {'text': '特斯拉牌3HNPLCJC2ZUHN9X', 'label': '厂牌型号'}, {'text': '重庆永川', 'label': '产地'}, {'text': '21195092846', 'label': '发动机号'}, {'text': '福建五菱销售服务有限公司', 'label': '销售单位名称'}, {'text': '137628668793622741', 'label': '纳税人识别号'}, {'text': '工商银行南宁明秀支行', 'label': '开户银行'}, {'text': '26550.31', 'label': '增值税税额'}, {'text': '98053.10', 'label': '不含税价'}, {'text': '国家税务总局南宁高新技术产业开发区税务局心圩税务分局14501940500', 'label': '主管税务机关及代码'}]}]\n"
     ]
    }
   ],
   "source": [
    "# 指定 Java 文件的路径\n",
    "json_file_path = 'label.json'\n",
    "\n",
    "# 读取 Java 文件\n",
    "with open(json_file_path, 'r', encoding='utf-8') as file:\n",
    "    content = json.load(file)  # 读取文件内容\n",
    "    print(content)  # 打印文件内容\n"
   ]
  },
  {
   "cell_type": "code",
   "execution_count": 13,
   "metadata": {},
   "outputs": [],
   "source": [
    "po=[\"发票代码\",\"购买方名称\"]"
   ]
  },
  {
   "cell_type": "code",
   "execution_count": 15,
   "metadata": {},
   "outputs": [
    {
     "data": {
      "text/plain": [
       "123084821864"
      ]
     },
     "execution_count": 15,
     "metadata": {},
     "output_type": "execute_result"
    }
   ],
   "source": [
    "data=pd.read_csv(\"test_result.csv\")\n",
    "data['发票代码'][1]"
   ]
  },
  {
   "cell_type": "code",
   "execution_count": 25,
   "metadata": {},
   "outputs": [
    {
     "name": "stdout",
     "output_type": "stream",
     "text": [
      "0.9666666666666667\n"
     ]
    }
   ],
   "source": [
    "len(data)\n",
    "correct=0\n",
    "for line in content:\n",
    "    for por in line['entities']:\n",
    "        if por['label'] in po:\n",
    "            data_name=data[por['label']][int(extract_digits(line['filename'])[0])-30]\n",
    "            #print(por['text'],por['label'],data_name)\n",
    "            if por['text']==data_name:\n",
    "                correct+=1\n",
    "print(correct/data.__len__())"
   ]
  }
 ],
 "metadata": {
  "kernelspec": {
   "display_name": "Python 3",
   "language": "python",
   "name": "python3"
  },
  "language_info": {
   "codemirror_mode": {
    "name": "ipython",
    "version": 3
   },
   "file_extension": ".py",
   "mimetype": "text/x-python",
   "name": "python",
   "nbconvert_exporter": "python",
   "pygments_lexer": "ipython3",
   "version": "3.11.1"
  }
 },
 "nbformat": 4,
 "nbformat_minor": 2
}
